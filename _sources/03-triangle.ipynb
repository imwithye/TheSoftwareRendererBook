{
 "cells": [
  {
   "cell_type": "markdown",
   "id": "dad197fc-b798-4209-afba-10eefd392431",
   "metadata": {},
   "source": [
    "# 三角形绘制\n",
    "\n",
    "> 本章节算法和代码引用了  Dmitry V. Sokolov 的 [tinyrenderer](https://github.com/ssloy/tinyrenderer) 第二章三角形光栅化过程。在原算法的基础上，本章节做了整理、改进和重构。感谢 Dmitry V. Sokolov 将这一段算法整理成册，并开源地发布在 GitHub 供所有人使用。\n",
    "\n",
    "在上一章节中，我们描述了基本的线段绘制的算法。线段是所有直线，射线，以及曲线的基本构成单元。对于一条曲线来说，我们可以通过利用微积分的思想，将曲线转换为一条一条细小的线段，通过控制线段的数量来控制曲线的平滑精度。而对于一个曲面来说，我们则可以通过渲染无数个细小的三角形来拟合。\n",
    "\n",
    "我们在此章节中，将会探索在 2D 平面下的三角形渲染。在掌握了 2D 三角形渲染的方法以后，对于一个立体的 3D 图形，无非通过投影变换将三维空间转换为二维平面，然后重复这个渲染过程。"
   ]
  },
  {
   "cell_type": "code",
   "execution_count": 1,
   "id": "6f13c95a-86ba-42ec-80e0-81eb3fb6c80d",
   "metadata": {},
   "outputs": [],
   "source": [
    "%%capture\n",
    "\n",
    "# 执行第二章的代码，引入 draw_line 函数\n",
    "%run \"02-line.ipynb\""
   ]
  },
  {
   "cell_type": "code",
   "execution_count": 2,
   "id": "67901407-32dc-46f7-9f03-148ce3f096aa",
   "metadata": {},
   "outputs": [
    {
     "data": {
      "image/png": "[encoded data removed]",
      "text/plain": [
       "<PIL.Image.Image image mode=RGBA size=200x200>"
      ]
     },
     "metadata": {},
     "output_type": "display_data"
    }
   ],
   "source": [
    "def draw_triangle_frame(img, p1, p2, p3, color):\n",
    "  draw_line(img, p1, p2, color)\n",
    "  draw_line(img, p2, p3, color)\n",
    "  draw_line(img, p3, p1, color)\n",
    "\n",
    "w, h = 200, 200\n",
    "img = Image.new('RGBA', (w, h), 'black')\n",
    "draw_triangle_frame(img, (0.2, 0.2), (0.6, 0.6), (0.3, 0.6), (255, 0, 0, 255))\n",
    "draw_triangle_frame(img, (0.2, 0.5), (0.1, 0.8), (0.2, 0.9), (0, 255, 0, 255))\n",
    "display(img)"
   ]
  }
 ],
 "metadata": {
  "kernelspec": {
   "display_name": "Python 3 (ipykernel)",
   "language": "python",
   "name": "python3"
  },
  "language_info": {
   "codemirror_mode": {
    "name": "ipython",
    "version": 3
   },
   "file_extension": ".py",
   "mimetype": "text/x-python",
   "name": "python",
   "nbconvert_exporter": "python",
   "pygments_lexer": "ipython3",
   "version": "3.10.6"
  }
 },
 "nbformat": 4,
 "nbformat_minor": 5
}
