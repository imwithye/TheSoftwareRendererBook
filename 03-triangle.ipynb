{
 "cells": [
  {
   "cell_type": "markdown",
   "id": "dad197fc-b798-4209-afba-10eefd392431",
   "metadata": {},
   "source": [
    "# 三角形绘制\n",
    "\n",
    "> 本章节算法和代码引用了  Dmitry V. Sokolov 的 [tinyrenderer](https://github.com/ssloy/tinyrenderer) 第二章三角形光栅化过程。在原算法的基础上，本章节做了整理、改进和重构。感谢 Dmitry V. Sokolov 将这一段算法整理成册，并开源地发布在 GitHub 供所有人使用。\n",
    "\n",
    "在上一章节中，我们描述了基本的线段绘制的算法。线段是所有直线，射线，以及曲线的基本构成单元。对于一条曲线来说，我们可以通过利用微积分的思想，将曲线转换为一条一条细小的线段，通过控制线段的数量来控制曲线的平滑精度。而对于一个曲面来说，我们则可以通过渲染无数个细小的三角形来拟合。\n",
    "\n",
    "我们在此章节中，将会探索在 2D 平面下的三角形渲染。在掌握了 2D 三角形渲染的方法以后，对于一个立体的 3D 图形，无非通过投影变换将三维空间转换为二维平面，然后重复这个渲染过程。"
   ]
  },
  {
   "cell_type": "code",
   "execution_count": 1,
   "id": "6f13c95a-86ba-42ec-80e0-81eb3fb6c80d",
   "metadata": {},
   "outputs": [],
   "source": [
    "%%capture\n",
    "\n",
    "# 执行第二章的代码，引入 draw_line 函数\n",
    "%run \"02-line.ipynb\""
   ]
  },
  {
   "cell_type": "code",
   "execution_count": 2,
   "id": "67901407-32dc-46f7-9f03-148ce3f096aa",
   "metadata": {},
   "outputs": [
    {
     "data": {
      "image/png": "[encoded data removed]",
      "text/plain": [
       "<PIL.Image.Image image mode=RGBA size=200x200>"
      ]
     },
     "metadata": {},
     "output_type": "display_data"
    }
   ],
   "source": [
    "def draw_triangle_frame(img, p1, p2, p3, color):\n",
    "  draw_line(img, p1, p2, color)\n",
    "  draw_line(img, p2, p3, color)\n",
    "  draw_line(img, p3, p1, color)\n",
    "\n",
    "w, h = 200, 200\n",
    "img = Image.new('RGBA', (w, h), 'black')\n",
    "draw_triangle_frame(img, (0.2, 0.2), (0.6, 0.6), (0.3, 0.6), (255, 0, 0, 255))\n",
    "draw_triangle_frame(img, (0.2, 0.5), (0.1, 0.8), (0.2, 0.9), (0, 255, 0, 255))\n",
    "display(img)"
   ]
  },
  {
   "cell_type": "markdown",
   "id": "d348e4f8-2063-47f6-93ac-0a91dc0e0157",
   "metadata": {},
   "source": [
    "运行该程序我们就可以得到一个空心三角形。"
   ]
  },
  {
   "cell_type": "markdown",
   "id": "ea2288c5-83c8-4f59-9ba1-cf3cb89306e1",
   "metadata": {},
   "source": [
    "## 扫描线算法\n",
    "\n",
    "通过线段绘制的办法，我们已经得到了一个空心的三角形。而对于实心三角形来说，一个朴素的想法是，我们从下至上，如同填色一样，一条线一条线的补全颜色，直到绘制完成整个三角形。\n",
    "\n",
    "由于我们不断的在三角形内部从左至右扫描并填，这个算法被称之为扫描线算法。现在让我们来讨论扫描线算法的实现细节。\n",
    "\n",
    "第一步，我们将三角形切分为上下两部分。\n",
    "\n",
    "![Split Triangle](assets/03-triangle/split-triangle.png)\n",
    "\n",
    "如上图所示，红色的三角形被经过B点的水平线，分成了上下两部分。上部分三角形由线段 AC，BC 和水平线 BD 围成，下半部分三角形则由 AC，AB 和水平线BD围成。A，B，C 三点的确定只需要根据三角形的三个端点的 y 坐标从低到高排序即可。\n",
    "\n",
    "如果 A 和 B 处于同一水平线，y 值相等，那么我们可以认为其下半部分 ABD（或上半部分 BDC ）为空三角形，而只存在上半部分（或下半部分）三角形。\n",
    "\n",
    "经过如此切分以后，三角形的三条线段的方程都是已知的。那么我们关注三角形 ABD，我们下往上，在线段 AD 上寻找一个点，然后做水平线，与 AB 相交，这条线段即我们的扫描线。这根扫描线明显处于三角形内部，那么我们把其经过的所有像素着色即可。\n"
   ]
  },
  {
   "cell_type": "code",
   "execution_count": 3,
   "id": "599845a9-8068-4d0d-8a1d-f9b9ee55728b",
   "metadata": {},
   "outputs": [
    {
     "data": {
      "image/png": "[encoded data removed]",
      "text/plain": [
       "<PIL.Image.Image image mode=RGBA size=200x200>"
      ]
     },
     "metadata": {},
     "output_type": "display_data"
    }
   ],
   "source": [
    "# 已知线段的两个端点，当一个点在线段上，并已知其y值，求x值\n",
    "def solve_line_x(p1, p2, y):\n",
    "    # p1.y和p2.y应不相等，我们在扫描线循环中，规避了相等情况\n",
    "    assert p1[1] != p2[1]\n",
    "    t = (y - p1[1]) / (p2[1] - p1[1])\n",
    "    return t * (p2[0] - p1[0]) + p1[0]\n",
    "\n",
    "def draw_triangle(img, p1, p2, p3, color):\n",
    "    # 将屏幕坐标转换到像素空间\n",
    "    p1i = (round(p1[0] * img.size[0]), round(p1[1] * img.size[1]))\n",
    "    p2i = (round(p2[0] * img.size[0]), round(p2[1] * img.size[1]))\n",
    "    p3i = (round(p3[0] * img.size[0]), round(p3[1] * img.size[1]))\n",
    "    \n",
    "    # 将三角形三个坐标按y轴从低到高排序\n",
    "    if p1i[1] > p2i[1]:\n",
    "        p1i, p2i = p2i, p1i\n",
    "    if p1i[1] > p3i[1]:\n",
    "        p1i, p3i = p3i, p1i\n",
    "    if p2i[1] > p3i[1]:\n",
    "        p2i, p3i = p3i, p2i\n",
    "    \n",
    "    # 扫描下半部分三角形，如果三角形水平，p1i.y == p2i.y, 则该循环被跳过\n",
    "    for y in range(p1i[1], p2i[1]):\n",
    "        x_min = solve_line_x(p1i, p3i, y) / img.size[0]\n",
    "        x_max = solve_line_x(p1i, p2i, y) / img.size[0]\n",
    "        y = y / img.size[1]\n",
    "        draw_line(img, (x_min, y), (x_max, y), color)\n",
    "    \n",
    "    # 扫描上半部分三角形，如果三角形水平，p2i.y == p3i.y, 则该循环被跳过\n",
    "    for y in range(p2i[1], p3i[1]):\n",
    "        x_min = solve_line_x(p1i, p3i, y) / img.size[0]\n",
    "        x_max = solve_line_x(p2i, p3i, y) / img.size[0]\n",
    "        y = y / img.size[1]\n",
    "        draw_line(img, (x_min, y), (x_max, y), color)\n",
    "\n",
    "w, h = 200, 200\n",
    "img = Image.new('RGBA', (w, h), 'black')\n",
    "draw_triangle(img, (0.2, 0.2), (0.6, 0.6), (0.3, 0.6), (255, 0, 0, 255))\n",
    "draw_triangle(img, (0.2, 0.5), (0.1, 0.8), (0.2, 0.9), (0, 255, 0, 255))\n",
    "display(img)"
   ]
  },
  {
   "cell_type": "markdown",
   "id": "013de58a-9c62-41e5-9c0a-b11ed27960b1",
   "metadata": {},
   "source": [
    "## 包围盒测试算法\n",
    "\n",
    "扫描线算法是一个非常老牌的算法，其不仅用于三角形绘制，同时还被大量应用于计算几何中。扫描线算法被大量应用于曾经的单线程 CPU 架构中，然而随着 GPU 的发展，带来了数千 GPU 线程同时绘制图形的方案，一个更适合多线程的包围盒测试算法应运而生。\n",
    "\n",
    "我们用一张图片来解释包围盒测试：\n",
    "\n",
    "![Bounding Box](assets/03-triangle/bounding-box.png)\n",
    "\n",
    "如图所示，绿色的长方形是红色三角形的包围盒。包围盒是这样一个长方形，其长和宽于`x`轴和`y`轴平行，并且其刚刚好围住了内部的三角形。很显然，包围盒的最小或最大`x`值是三角形三个端点中最小或最大的`x`，同理`y`也是如此。\n",
    "\n",
    "如果一个点处于包围盒之外，很显然它一定处于三角形之外。而一个处于包围盒之内的点，则有可能出现在三角形之内（B 点），或出现在三角形之外（A 点）。\n",
    "\n",
    "因此，我们仅仅只需遍历包围盒中的所有像素，并测试其是否在三角形之内，如果之内，则着色，否则则跳过该像素。\n",
    "\n",
    "首先我们来绘制包围盒子："
   ]
  },
  {
   "cell_type": "code",
   "execution_count": 4,
   "id": "f183c2bc-8229-48c9-8f6e-207f4349baa0",
   "metadata": {},
   "outputs": [
    {
     "data": {
      "image/png": "[encoded data removed]",
      "text/plain": [
       "<PIL.Image.Image image mode=RGBA size=200x200>"
      ]
     },
     "metadata": {},
     "output_type": "display_data"
    }
   ],
   "source": [
    "def is_in_triangle(p1, p2, p3, p):\n",
    "    # 因为我们要绘制包围盒，所以我们姑且认为包围盒中的点都属于三角形\n",
    "    return True\n",
    "\n",
    "def draw_triangle(img, p1, p2, p3, color):\n",
    "    # 将屏幕坐标转换到像素空间\n",
    "    p1i = (round(p1[0] * img.size[0]), round(p1[1] * img.size[1]))\n",
    "    p2i = (round(p2[0] * img.size[0]), round(p2[1] * img.size[1]))\n",
    "    p3i = (round(p3[0] * img.size[0]), round(p3[1] * img.size[1]))\n",
    "    \n",
    "    # 找到包围盒左下和右上两个端点\n",
    "    p_min = (min(p1i[0], p2i[0], p3i[0]), min(p1i[1], p2i[1], p3i[1]))\n",
    "    p_max = (max(p1i[0], p2i[0], p3i[0]), max(p1i[1], p2i[1], p3i[1]))\n",
    "    \n",
    "    for x in range(p_min[0], p_max[0]+1):\n",
    "        for y in range(p_min[1], p_max[1]+1):\n",
    "            p = (x / img.size[0], y / img.size[1])\n",
    "            if is_in_triangle(p1, p2, p3, p):\n",
    "                img.putpixel((x, img.size[1]-y), color)\n",
    "\n",
    "w, h = 200, 200\n",
    "img = Image.new('RGBA', (w, h), 'black')\n",
    "draw_triangle(img, (0.2, 0.2), (0.6, 0.6), (0.3, 0.6), (255, 0, 0, 255))\n",
    "draw_triangle(img, (0.2, 0.5), (0.1, 0.8), (0.2, 0.9), (0, 255, 0, 255))\n",
    "display(img)"
   ]
  },
  {
   "cell_type": "markdown",
   "id": "496f7299-e436-4235-8f3a-227b61c373c8",
   "metadata": {},
   "source": [
    "上诉代码成功绘制了绿色三角形和红色三角形的包围盒。现在我们来实现`is_in_triangle`算法，测试属于包围盒的点，是否同时也属于三角形。\n",
    "\n",
    "在这里我们引入重心坐标系。在数学中，重心坐标是由单形（如三角形或四面体等）顶点定义的坐标。重心坐标是齐次坐标的一种。\n",
    "\n",
    "假设三角形的三个顶点为 $A$, $B$, $C$。那么点 $P$ 可以表示为：\n",
    "\n",
    "$$\n",
    "P = iA + uB + vC, \\text{where $i + u + v = 1$}\n",
    "$$\n",
    "\n",
    "则 $(i, u, v)$ 为点 $P$ 的重心坐标。并且如果 $i$, $u$, $v$ 其中任何一个值小于 0，那么点 $P$ 则落在三角形外部。"
   ]
  },
  {
   "cell_type": "markdown",
   "id": "01a34915-2a1d-4e73-8c3c-98ef10bcd827",
   "metadata": {},
   "source": [
    "我们令 $i=1-u-v$ , 则\n",
    "\n",
    "$$\n",
    "\\begin{equation}\n",
    "\\begin{aligned}\n",
    "P &= (1-u-v)A + uB + vC \\\\\n",
    "  &= A - uA - vA + uB + vC \\\\\n",
    "  &= A + u\\overrightarrow{AB} + v\\overrightarrow{AC}\n",
    "\\end{aligned}\n",
    "\\end{equation}\n",
    "$$\n",
    "\n",
    "整理可得\n",
    "\n",
    "$$\n",
    "u\\overrightarrow{AB} + v\\overrightarrow{AC} + \\overrightarrow{PA} = \\overrightarrow{0}\n",
    "$$\n",
    "\n",
    "我们把坐标进行分解，并且用矩阵表示则有\n",
    "\n",
    "$$\n",
    "\\begin{cases}\n",
    "\\begin{bmatrix}u, v, 1\\end{bmatrix} \\cdot \\begin{bmatrix}\\overrightarrow{AB}_x \\cr \\overrightarrow{AC}_x \\cr \\overrightarrow{PA}_x\\end{bmatrix} = 0 \\\\\n",
    "\\begin{bmatrix}u, v, 1\\end{bmatrix} \\cdot \\begin{bmatrix}\\overrightarrow{AB}_y \\cr \\overrightarrow{AC}_y \\cr \\overrightarrow{PA}_y\\end{bmatrix} = 0\n",
    "\\end{cases}\n",
    "$$\n",
    "\n",
    "一个有趣的事实是，向量 $(u, v, 1)$ 同时与两个向量垂直（内积为 0），很显然，向量 $(u, v, 1)$ 与这两个向量的叉积（Cross Product）平行。\n",
    "\n",
    "我们用`numpy`来帮助我们计算向量的叉积："
   ]
  },
  {
   "cell_type": "code",
   "execution_count": 5,
   "id": "56e5e192-9be8-465c-9e43-c66ca14d1a3f",
   "metadata": {},
   "outputs": [],
   "source": [
    "import numpy as np\n",
    "\n",
    "def is_in_triangle(a, b, c, p):\n",
    "    v1 = np.array([b[0]-a[0], c[0]-a[0], a[0]-p[0]])\n",
    "    v2 = np.array([b[1]-a[1], c[1]-a[1], a[1]-p[1]])\n",
    "    v3 = np.cross(v1, v2)\n",
    "    # 将最后一位设为1\n",
    "    v3 /= v3[2]\n",
    "    i, u, v = 1-v3[0]-v3[1], v3[0], v3[1]\n",
    "    return not(i < 0 or u < 0 or v < 0)"
   ]
  },
  {
   "cell_type": "markdown",
   "id": "1663cdf5-d613-418e-bcfc-d9e1782c4011",
   "metadata": {},
   "source": [
    "将这一段测试函数和原先的绘制函数组合一起则有："
   ]
  },
  {
   "cell_type": "code",
   "execution_count": 6,
   "id": "38a728fe-411d-4d9c-9cdb-d9d2f7cd4467",
   "metadata": {},
   "outputs": [
    {
     "data": {
      "image/png": "[encoded data removed]",
      "text/plain": [
       "<PIL.Image.Image image mode=RGBA size=200x200>"
      ]
     },
     "metadata": {},
     "output_type": "display_data"
    }
   ],
   "source": [
    "def draw_triangle(img, p1, p2, p3, color):\n",
    "    # 将屏幕坐标转换到像素空间\n",
    "    p1i = (round(p1[0] * img.size[0]), round(p1[1] * img.size[1]))\n",
    "    p2i = (round(p2[0] * img.size[0]), round(p2[1] * img.size[1]))\n",
    "    p3i = (round(p3[0] * img.size[0]), round(p3[1] * img.size[1]))\n",
    "    \n",
    "    # 找到包围盒左下和右上两个端点\n",
    "    p_min = (min(p1i[0], p2i[0], p3i[0]), min(p1i[1], p2i[1], p3i[1]))\n",
    "    p_max = (max(p1i[0], p2i[0], p3i[0]), max(p1i[1], p2i[1], p3i[1]))\n",
    "    \n",
    "    for x in range(p_min[0], p_max[0]+1):\n",
    "        for y in range(p_min[1], p_max[1]+1):\n",
    "            p = (x / img.size[0], y / img.size[1])\n",
    "            if is_in_triangle(p1, p2, p3, p):\n",
    "                img.putpixel((x, img.size[1]-y), color)\n",
    "\n",
    "w, h = 200, 200\n",
    "img = Image.new('RGBA', (w, h), 'black')\n",
    "draw_triangle(img, (0.2, 0.2), (0.6, 0.6), (0.3, 0.6), (255, 0, 0, 255))\n",
    "draw_triangle(img, (0.2, 0.5), (0.1, 0.8), (0.2, 0.9), (0, 255, 0, 255))\n",
    "display(img)"
   ]
  },
  {
   "cell_type": "markdown",
   "id": "510cc451-f199-424f-8991-8ba9083c1f80",
   "metadata": {},
   "source": [
    "至此，我们便利用包围盒优化和三角形测试算法，绘制出了我们想要的三角形。"
   ]
  }
 ],
 "metadata": {
  "kernelspec": {
   "display_name": "Python 3 (ipykernel)",
   "language": "python",
   "name": "python3"
  },
  "language_info": {
   "codemirror_mode": {
    "name": "ipython",
    "version": 3
   },
   "file_extension": ".py",
   "mimetype": "text/x-python",
   "name": "python",
   "nbconvert_exporter": "python",
   "pygments_lexer": "ipython3",
   "version": "3.10.6"
  }
 },
 "nbformat": 4,
 "nbformat_minor": 5
}
