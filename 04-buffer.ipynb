{
 "cells": [
  {
   "cell_type": "markdown",
   "id": "a869609e-c5f2-4015-981a-0c3446d6f4f7",
   "metadata": {},
   "source": [
    "# 缓冲区，贴图和采样\n",
    "\n",
    "在前三章中，我们频繁使用了`Image`输出我们的最终结果，由于屏幕空间和像素空间坐标系的关系，我们频繁进行坐标系转换以及上下轴翻转，在这一章中，我们对此项操作进行统一和封装，以便于我们在后续的渲染过程中能更好的管理资源。"
   ]
  },
  {
   "cell_type": "code",
   "execution_count": null,
   "id": "6b5168fd-0857-4904-a6c8-c7e175b0022c",
   "metadata": {},
   "outputs": [],
   "source": []
  }
 ],
 "metadata": {
  "kernelspec": {
   "display_name": "Python 3 (ipykernel)",
   "language": "python",
   "name": "python3"
  },
  "language_info": {
   "codemirror_mode": {
    "name": "ipython",
    "version": 3
   },
   "file_extension": ".py",
   "mimetype": "text/x-python",
   "name": "python",
   "nbconvert_exporter": "python",
   "pygments_lexer": "ipython3",
   "version": "3.10.6"
  }
 },
 "nbformat": 4,
 "nbformat_minor": 5
}
